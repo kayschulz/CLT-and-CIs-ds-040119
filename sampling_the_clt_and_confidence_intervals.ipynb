{
 "cells": [
  {
   "cell_type": "markdown",
   "metadata": {},
   "source": [
    "# Distributions Revisited"
   ]
  },
  {
   "cell_type": "code",
   "execution_count": 1,
   "metadata": {},
   "outputs": [],
   "source": [
    "from scipy import stats\n",
    "import numpy as np\n",
    "import matplotlib.pyplot as plt\n",
    "import random"
   ]
  },
  {
   "cell_type": "markdown",
   "metadata": {},
   "source": [
    "## Negative Binomial Distribution\n",
    "\n",
    "The negative binomial distribution describes the probability of getting the $r^{th}$ success (of a binary process) on the $n^{th}$ trial.\n",
    "\n",
    "Its pdf looks like this:"
   ]
  },
  {
   "cell_type": "code",
   "execution_count": 2,
   "metadata": {},
   "outputs": [
    {
     "data": {
      "image/png": "[encoded data removed]",
      "text/plain": [
       "<Figure size 432x288 with 1 Axes>"
      ]
     },
     "metadata": {
      "needs_background": "light"
     },
     "output_type": "display_data"
    }
   ],
   "source": [
    "n = 2\n",
    "p = 1 / 6\n",
    "\n",
    "fig, ax = plt.subplots(1, 1)\n",
    "prob = stats.nbinom(n, p)\n",
    "x = np.arange(stats.nbinom.ppf(0.01, n, p),\n",
    "              stats.nbinom.ppf(0.99, n, p))\n",
    "ax.plot(x, stats.nbinom.pmf(x, n, p), 'bo', ms=8, label='nbinom pmf')\n",
    "ax.vlines(x, 0, prob.pmf(x), colors='k', linestyles='-', lw=1,\n",
    "        label='frozen pmf')\n",
    "ax.legend(loc='best', frameon=False)\n",
    "plt.show()"
   ]
  },
  {
   "cell_type": "markdown",
   "metadata": {},
   "source": [
    "For example, what are the chances that it takes me twenty rolls of a fair die before finally rolling two 6's?\n",
    "\n",
    "The equation is given by the following:\n",
    "\n",
    "$\\large P_{negbinom}(n, r, p) = $$\\large(n - 1)\\choose\\large(r - 1)$$\\large p^r(1 - p)^{n - r}$.\n",
    "\n",
    "Let's explain this:\n",
    "\n",
    "If the $r^{th}$ success is going to come on the $n^{th}$ trial, then how many successes should I have on the first $n - 1$ trials?\n",
    "\n",
    "How many failures will I have in the first $n - 1$ trials?\n",
    "\n",
    "So, to answer our example question, we have:\n",
    "\n",
    "$\\large P_{negbinom}(20, 2, 1/6) = $$\\large19\\choose\\large 1$$\\large (1/6)^2(5/6)^{18}$"
   ]
  },
  {
   "cell_type": "code",
   "execution_count": 3,
   "metadata": {},
   "outputs": [
    {
     "data": {
      "text/plain": [
       "0.019823880511487525"
      ]
     },
     "execution_count": 3,
     "metadata": {},
     "output_type": "execute_result"
    }
   ],
   "source": [
    "# Let's calculate this here:\n",
    "\n",
    "19 * (1/6) ** 2 * (5/6) ** 18"
   ]
  },
  {
   "cell_type": "code",
   "execution_count": 4,
   "metadata": {},
   "outputs": [
    {
     "data": {
      "text/plain": [
       "0.019823880511487542"
      ]
     },
     "execution_count": 4,
     "metadata": {},
     "output_type": "execute_result"
    }
   ],
   "source": [
    "# Let's check our math against scipy's!\n",
    "\n",
    "stats.nbinom(n=2, p=1/6).pmf(k=18)"
   ]
  },
  {
   "cell_type": "markdown",
   "metadata": {},
   "source": [
    "(Note that the geometric distribution is a special case of the negative binomial distribution.)"
   ]
  },
  {
   "cell_type": "markdown",
   "metadata": {},
   "source": [
    "There is only a 2% chance that this will happen!\n",
    "\n",
    "The mean of this distribution is $\\large\\mu = \\frac{r}{p}$ (does this make sense?), <br/>\n",
    "\n",
    "and the std of this distribution is $\\large\\sigma = \\frac{\\sqrt{r(1 - p)}}{p}$"
   ]
  },
  {
   "cell_type": "markdown",
   "metadata": {},
   "source": [
    "### Your turn!\n",
    "\n",
    "Suppose I roll a 100-sided die. What are the chances that I roll my 3rd '98' on the 27th roll of the die?"
   ]
  },
  {
   "cell_type": "code",
   "execution_count": 5,
   "metadata": {},
   "outputs": [
    {
     "data": {
      "text/plain": [
       "0.00025534539576234637"
      ]
     },
     "execution_count": 5,
     "metadata": {},
     "output_type": "execute_result"
    }
   ],
   "source": [
    "# Your code here!\n",
    "\n",
    "p = 1/100\n",
    "r = 3\n",
    "k = 24\n",
    "\n",
    "stats.nbinom(n=r, p=p).pmf(k=24)"
   ]
  },
  {
   "cell_type": "markdown",
   "metadata": {},
   "source": [
    "## Sampling and the Central Limit Theorem\n",
    "\n",
    "Recall the difference between sample and population. Statisticians (and data scientists!) are often in the position of making predictions about some population based on a sample drawn from that population:\n",
    "\n",
    "- I interview 100 Washingtonians and take their responses to be representative of state opinions generally.\n",
    "\n",
    "- I measure the lengths of 200 fish in Puget Sound and speculate about the lengths of _all_ the fish in the Sound.\n",
    "\n",
    "Question: Are the _statistics_ I calculate on my sample representative of the statistics of the population?\n",
    "\n",
    "Note: The difference between a sample statistic and the population statistic is called the **sampling error**.\n",
    "\n",
    "Reflection: What factors might be responsible for a large (or small) sampling error?\n",
    "\n",
    "Suppose I take many samples and calculate statistics on each. Would _those_ illuminate the population statistics?\n",
    "\n",
    "The Central Limit Theorem (CLT) says that, under suitable conditions, the sum of independent random variables will converge to a normal distribution in the limit as the number of variables increases infinitely. The CLT will often hold _even when_ the underlying random variables are _not_ themselves normally distributed!\n",
    "\n",
    "Let's look at some examples:"
   ]
  },
  {
   "cell_type": "code",
   "execution_count": 6,
   "metadata": {},
   "outputs": [
    {
     "data": {
      "image/png": "[encoded data removed]",
      "text/plain": [
       "<Figure size 432x288 with 1 Axes>"
      ]
     },
     "metadata": {
      "needs_background": "light"
     },
     "output_type": "display_data"
    }
   ],
   "source": [
    "# Let's look at the means of an exponential distribution.\n",
    "# We'll use the ```.rvs()``` method of scipy.\n",
    "%matplotlib inline\n",
    "\n",
    "means = []\n",
    "for _ in range(2000):\n",
    "    means.append(np.mean(stats.expon.rvs(size=100)))\n",
    "_ = plt.hist(means, bins=50)"
   ]
  },
  {
   "cell_type": "code",
   "execution_count": 7,
   "metadata": {},
   "outputs": [],
   "source": [
    "# Let's try it for standard deviations of a geometric distribution.\n",
    "\n",
    "stds = []\n",
    "for _ in range(100):\n",
    "    stds.append(np.std(stats.geom.rvs(p=0.5, size=100)))"
   ]
  },
  {
   "cell_type": "code",
   "execution_count": 8,
   "metadata": {
    "scrolled": true
   },
   "outputs": [
    {
     "data": {
      "image/png": "[encoded data removed]",
      "text/plain": [
       "<Figure size 432x288 with 1 Axes>"
      ]
     },
     "metadata": {
      "needs_background": "light"
     },
     "output_type": "display_data"
    }
   ],
   "source": [
    "# Plot\n",
    "\n",
    "plt.hist(stds, bins=50);"
   ]
  },
  {
   "cell_type": "code",
   "execution_count": 26,
   "metadata": {},
   "outputs": [],
   "source": [
    "# Expected result for std\n"
   ]
  },
  {
   "cell_type": "code",
   "execution_count": 9,
   "metadata": {},
   "outputs": [],
   "source": [
    "# Minimum values of a normal distribution?\n",
    "\n",
    "mins = []\n",
    "for _ in range(10000):\n",
    "    mins.append(np.min(stats.norm.rvs(size=100)))"
   ]
  },
  {
   "cell_type": "code",
   "execution_count": 10,
   "metadata": {},
   "outputs": [
    {
     "data": {
      "image/png": "[encoded data removed]",
      "text/plain": [
       "<Figure size 432x288 with 1 Axes>"
      ]
     },
     "metadata": {
      "needs_background": "light"
     },
     "output_type": "display_data"
    }
   ],
   "source": [
    "# Plot\n",
    "\n",
    "plt.hist(mins, bins=50);"
   ]
  },
  {
   "cell_type": "markdown",
   "metadata": {},
   "source": [
    "## Confidence Intervals"
   ]
  },
  {
   "cell_type": "markdown",
   "metadata": {},
   "source": [
    "Because sample statistics are imperfect representations of the true population values, it is often appropriate to state these estimates with **confidence intervals**.\n",
    "\n",
    "Before proceeding, let's already say a word about how to _interpret_ a confidence interval.\n",
    "\n",
    "Suppose our Indian correspondent (or David Attenborough) takes several hundred measurements of parrot beak lengths in the Ganges river basin and calculates (correctly!) an average beak length of 9cm. He reports this measure by saying that the 90%-confidence interval is (8.6, 9.4).\n",
    "\n",
    "This does NOT mean that we should be 90% confident that the true population mean beak length is somewhere between 8.6cm and 9.4cm. Rather, what our correspondent means is that, if we were to conduct the same measuring experiment many times, constructing intervals in the same way, we should expect 90% of those intervals to contain the true population mean.\n",
    "\n",
    "OK: So how do we construct these intervals?"
   ]
  },
  {
   "cell_type": "markdown",
   "metadata": {},
   "source": [
    "The confidence interval we construct will depend on the statistics of our sample. It will depend in particular on (i) our sample mean and (ii) our sample size.\n",
    "\n",
    "Naturally, the confidence interval will be centered on our sample mean. To construct the endpoints we step out from the center with a step size equal to the standard error, $\\large\\frac{\\sigma}{\\sqrt{n}}$. The number of steps we take is determined by which level of confidence we want attached to our interval: In particular, we take $z$-many steps, where $z$ is the (two-tailed) z-score that corresponds to our chosen level of confidence.\n",
    "\n",
    "Let's look at an example:"
   ]
  },
  {
   "cell_type": "code",
   "execution_count": 15,
   "metadata": {},
   "outputs": [],
   "source": [
    "# A normally distributed variable with a\n",
    "# population size of 1000\n",
    "\n",
    "pop = set(stats.norm.rvs(size=1000))"
   ]
  },
  {
   "cell_type": "code",
   "execution_count": 16,
   "metadata": {},
   "outputs": [
    {
     "data": {
      "text/plain": [
       "0.003643206957040679"
      ]
     },
     "execution_count": 16,
     "metadata": {},
     "output_type": "execute_result"
    }
   ],
   "source": [
    "# Let's calculate the population mean\n",
    "np.mean(list(pop))"
   ]
  },
  {
   "cell_type": "code",
   "execution_count": 17,
   "metadata": {},
   "outputs": [
    {
     "data": {
      "text/plain": [
       "0.9808062714805346"
      ]
     },
     "execution_count": 17,
     "metadata": {},
     "output_type": "execute_result"
    }
   ],
   "source": [
    "# And the population standard deviation.\n",
    "\n",
    "np.std(list(pop))"
   ]
  },
  {
   "cell_type": "markdown",
   "metadata": {},
   "source": [
    "Let's say we take a sample of ten from our population, and that we want an 80%-confidence interval for our estimate of the population mean. The z-score that corresponds to an 80%-confidence interval is:"
   ]
  },
  {
   "cell_type": "code",
   "execution_count": 22,
   "metadata": {},
   "outputs": [
    {
     "data": {
      "text/plain": [
       "1.2815515655446004"
      ]
     },
     "execution_count": 22,
     "metadata": {},
     "output_type": "execute_result"
    }
   ],
   "source": [
    "conf = stats.norm.ppf(0.9) # Why 0.9 here?\n",
    "conf"
   ]
  },
  {
   "cell_type": "markdown",
   "metadata": {},
   "source": [
    "### A Visual Interpretation of Confidence Intervals"
   ]
  },
  {
   "cell_type": "code",
   "execution_count": 25,
   "metadata": {},
   "outputs": [
    {
     "data": {
      "image/png": "[encoded data removed]",
      "text/plain": [
       "<Figure size 1440x1440 with 1 Axes>"
      ]
     },
     "metadata": {
      "needs_background": "light"
     },
     "output_type": "display_data"
    }
   ],
   "source": [
    "# Plotting CIs\n",
    "\n",
    "intervals = []\n",
    "for j in range(10): #number of intervals\n",
    "    sample = random.sample(pop, 10)\n",
    "    step = np.std(list(pop)) / np.sqrt(10)\n",
    "    x_min = np.mean(sample) - step * conf\n",
    "    x_max = np.mean(sample) + step * conf\n",
    "    intervals.append(np.linspace(x_min, x_max, 100))\n",
    "    \n",
    "plt.figure(figsize=(20,20))\n",
    "plt.plot(intervals, range(10), '.')\n",
    "plt.vlines(np.mean(list(pop)), 0, 10, lw=10);\n",
    "    \n",
    "    "
   ]
  },
  {
   "cell_type": "code",
   "execution_count": null,
   "metadata": {},
   "outputs": [],
   "source": []
  }
 ],
 "metadata": {
  "kernelspec": {
   "display_name": "Python 3",
   "language": "python",
   "name": "python3"
  },
  "language_info": {
   "codemirror_mode": {
    "name": "ipython",
    "version": 3
   },
   "file_extension": ".py",
   "mimetype": "text/x-python",
   "name": "python",
   "nbconvert_exporter": "python",
   "pygments_lexer": "ipython3",
   "version": "3.6.6"
  }
 },
 "nbformat": 4,
 "nbformat_minor": 2
}
